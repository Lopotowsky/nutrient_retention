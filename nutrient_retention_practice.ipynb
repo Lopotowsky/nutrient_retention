{
 "cells": [
  {
   "cell_type": "code",
   "execution_count": null,
   "metadata": {},
   "outputs": [],
   "source": [
    "## read column names\n",
    "# print(nr.columns)\n",
    "\n",
    "## read each column\n",
    "# print(nr['food_type'])\n",
    "\n",
    "## read each row\n",
    "# print(nr.iloc[0:4])\n",
    "# nr.loc[nr['food_type']==\"CHEESE\"]\n",
    "\n",
    "## read a specific location (x,y)\n",
    "# print(nr.iloc[2,1])"
   ]
  },
  {
   "cell_type": "code",
   "execution_count": 1,
   "metadata": {},
   "outputs": [],
   "source": [
    "import numpy as np\n",
    "import pandas as pd\n",
    "import matplotlib.pyplot as plt\n",
    "import seaborn as sns"
   ]
  },
  {
   "cell_type": "code",
   "execution_count": 2,
   "metadata": {},
   "outputs": [],
   "source": [
    "csv_path = \"nutrient_retention_clean.csv\""
   ]
  },
  {
   "cell_type": "code",
   "execution_count": 3,
   "metadata": {},
   "outputs": [],
   "source": [
    "nr=pd.read_csv(csv_path)"
   ]
  },
  {
   "cell_type": "code",
   "execution_count": null,
   "metadata": {},
   "outputs": [],
   "source": [
    "nr"
   ]
  },
  {
   "cell_type": "code",
   "execution_count": null,
   "metadata": {},
   "outputs": [],
   "source": [
    "ca=nr.loc[nr['nutrient_desc']=='Calcium']\n",
    "ca.head(7)"
   ]
  },
  {
   "cell_type": "code",
   "execution_count": null,
   "metadata": {},
   "outputs": [],
   "source": [
    "eggs=nr.loc[nr['food_type']=='EGGS']\n",
    "eggs.head(7)"
   ]
  },
  {
   "cell_type": "code",
   "execution_count": null,
   "metadata": {
    "scrolled": true
   },
   "outputs": [],
   "source": [
    "nr[nr['retn_factor']==100.0]"
   ]
  },
  {
   "cell_type": "code",
   "execution_count": null,
   "metadata": {},
   "outputs": [],
   "source": [
    "frozen=nr[nr['food_desc']=='FROZEN']\n",
    "frozen\n",
    "# frozen[frozen['retn_factor']>=90.0]"
   ]
  },
  {
   "cell_type": "code",
   "execution_count": null,
   "metadata": {},
   "outputs": [],
   "source": [
    "nr['food_type'].drop_duplicates()"
   ]
  },
  {
   "cell_type": "markdown",
   "metadata": {},
   "source": [
    "# Notes on Nutrient Retention factors\n",
    "### <70\n",
    "641 rows\n",
    "### >=70\n",
    "6301 rows\n",
    "### =100\n",
    "2601 rows\n",
    "\n",
    "## Frozen (total = 234 rows)\n",
    "### >= 90\n",
    "199 rows"
   ]
  },
  {
   "cell_type": "code",
   "execution_count": null,
   "metadata": {},
   "outputs": [],
   "source": [
    "grouped = nr.groupby(by=\"cook_method_1\")\n",
    "grouped"
   ]
  },
  {
   "cell_type": "code",
   "execution_count": null,
   "metadata": {},
   "outputs": [],
   "source": [
    "type(grouped)"
   ]
  },
  {
   "cell_type": "code",
   "execution_count": null,
   "metadata": {},
   "outputs": [],
   "source": [
    "grouped['retn_factor'].median().sort_values()"
   ]
  },
  {
   "cell_type": "code",
   "execution_count": null,
   "metadata": {},
   "outputs": [],
   "source": [
    "grouped['retn_factor'].mean().sort_values()"
   ]
  },
  {
   "cell_type": "code",
   "execution_count": null,
   "metadata": {},
   "outputs": [],
   "source": [
    "grouped2 = nr.groupby(by=\"cook_method_2\")\n",
    "grouped2"
   ]
  },
  {
   "cell_type": "code",
   "execution_count": null,
   "metadata": {},
   "outputs": [],
   "source": [
    "grouped2['retn_factor'].median().sort_values()"
   ]
  },
  {
   "cell_type": "code",
   "execution_count": null,
   "metadata": {},
   "outputs": [],
   "source": [
    "grouped2['retn_factor'].mean().sort_values()"
   ]
  },
  {
   "cell_type": "code",
   "execution_count": null,
   "metadata": {
    "scrolled": true
   },
   "outputs": [],
   "source": [
    "grouped3 = nr.groupby(by=[\"cook_method_1\",\"cook_method_2\"])\n",
    "grouped3[\"retn_factor\"].describe().sort_values(by=\"mean\")"
   ]
  },
  {
   "cell_type": "code",
   "execution_count": null,
   "metadata": {},
   "outputs": [],
   "source": [
    "grouped[\"retn_factor\"].describe().sort_values(by=\"mean\")"
   ]
  },
  {
   "cell_type": "code",
   "execution_count": null,
   "metadata": {
    "scrolled": true
   },
   "outputs": [],
   "source": [
    "rootveg=nr.loc[nr['food_type']=='VEG/ROOTS']\n",
    "rootveg[rootveg['cook_method_1']==\"BAKED\"]"
   ]
  },
  {
   "cell_type": "code",
   "execution_count": null,
   "metadata": {},
   "outputs": [],
   "source": [
    "# matplotlib practice\n",
    "names = ['Folate, food', 'Folate, total', 'Choline, total', 'Niacin']\n",
    "values = [80, 80, 100, 95]\n",
    "plt.bar(names, values)"
   ]
  },
  {
   "cell_type": "code",
   "execution_count": null,
   "metadata": {},
   "outputs": [],
   "source": [
    "rootveg=nr.loc[nr['food_type']=='VEG/ROOTS']\n",
    "rootveg[rootveg['cook_method_1']==\"BAKED\"]\n",
    "names = nr['nutrient_desc'].value_counts().plot(kind='bar')\n",
    "plt.title('Nutrient Retention in Baked Root Vegetables')\n",
    "plt.ylabel('Retention %')\n",
    "plt.xlabel('Nutrient Name')"
   ]
  },
  {
   "cell_type": "code",
   "execution_count": null,
   "metadata": {},
   "outputs": [],
   "source": [
    "## need to have correct values on Y axis correspond to nutrient names\n",
    "#rootveg=nr.loc[nr['food_type']=='VEG/ROOTS']\n",
    "#rootveg[rootveg['cook_method_1']==\"BAKED\"]\n",
    "#nr['nutrient_desc'].value_counts().plot(kind='bar')\n",
    "#plt.title('Nutrient Retention in Baked Root Vegetables')\n",
    "#plt.ylabel('Retention %')\n",
    "#plt.xlabel('Nutrient Name')"
   ]
  }
 ],
 "metadata": {
  "kernelspec": {
   "display_name": "Python 3",
   "language": "python",
   "name": "python3"
  },
  "language_info": {
   "codemirror_mode": {
    "name": "ipython",
    "version": 3
   },
   "file_extension": ".py",
   "mimetype": "text/x-python",
   "name": "python",
   "nbconvert_exporter": "python",
   "pygments_lexer": "ipython3",
   "version": "3.8.5"
  }
 },
 "nbformat": 4,
 "nbformat_minor": 4
}
